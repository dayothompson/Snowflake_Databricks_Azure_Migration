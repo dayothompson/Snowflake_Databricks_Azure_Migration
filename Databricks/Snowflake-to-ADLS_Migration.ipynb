{
 "cells": [
  {
   "cell_type": "code",
   "execution_count": 0,
   "metadata": {
    "application/vnd.databricks.v1+cell": {
     "cellMetadata": {},
     "inputWidgets": {},
     "nuid": "6827960b-7bd5-450b-b832-279ce6c91357",
     "showTitle": false,
     "tableResultSettingsMap": {},
     "title": ""
    }
   },
   "outputs": [],
   "source": [
    "from pyspark.sql.types import *\n",
    "from pyspark.sql.functions import lit\n"
   ]
  },
  {
   "cell_type": "markdown",
   "metadata": {
    "application/vnd.databricks.v1+cell": {
     "cellMetadata": {},
     "inputWidgets": {},
     "nuid": "b095eea0-2c7a-4449-afcc-369fa9197ea8",
     "showTitle": false,
     "tableResultSettingsMap": {},
     "title": ""
    }
   },
   "source": [
    "#### Read data from Snowflake"
   ]
  },
  {
   "cell_type": "code",
   "execution_count": 0,
   "metadata": {
    "application/vnd.databricks.v1+cell": {
     "cellMetadata": {},
     "inputWidgets": {},
     "nuid": "7a45e340-7c6f-46a3-8b58-9f097110f8bc",
     "showTitle": false,
     "tableResultSettingsMap": {},
     "title": ""
    }
   },
   "outputs": [],
   "source": [
    "\n",
    "# Create a query from the Calgary table in Snowflake \n",
    "query_cal = \"\"\"\n",
    "SELECT * FROM snowflake_catalog.sales.calgary\n",
    "\"\"\"\n",
    "\n",
    "# Transform the query into a DataFrame\n",
    "df_cal = spark.sql(query_cal)\n",
    "\n",
    "# Add a new column called City and define the data types\n",
    "cal_col = df_cal.withColumn(\"Price\", df_cal[\"Price\"].cast(IntegerType())) \\\n",
    "                .withColumn(\"Address\", df_cal[\"Address\"].cast(StringType())) \\\n",
    "                .withColumn(\"Postal_Code\", df_cal[\"Postal_Code\"].cast(StringType())) \\\n",
    "                .withColumn(\"Bed\", df_cal[\"Bed\"].cast(IntegerType())) \\\n",
    "                .withColumn(\"Full_Bath\", df_cal[\"Full_Bath\"].cast(IntegerType())) \\\n",
    "                .withColumn(\"Half_Bath\", df_cal[\"Half_Bath\"].cast(IntegerType())) \\\n",
    "                .withColumn(\"Property_Area\", df_cal[\"Property_Area\"].cast(IntegerType())) \\\n",
    "                .withColumn(\"Property_Type\", df_cal[\"Property_Type\"].cast(IntegerType())) \\\n",
    "                .withColumn(\"City\", lit(\"Calgary\").cast(StringType()))\n",
    "\n",
    "# Display the DataFrame\n",
    "display(cal_col)\n",
    "\n",
    "(1) Spark Jobs"
   ]
  },
  {
   "cell_type": "code",
   "execution_count": 0,
   "metadata": {
    "application/vnd.databricks.v1+cell": {
     "cellMetadata": {},
     "inputWidgets": {},
     "nuid": "a3c94bc2-686c-416b-a770-31a8bb1b1e00",
     "showTitle": false,
     "tableResultSettingsMap": {},
     "title": ""
    }
   },
   "outputs": [],
   "source": [
    "# Create a query from the Vancouver table in Snowflake \n",
    "query_van = \"\"\"\n",
    "SELECT * FROM snowflake_catalog.sales.vancouver\n",
    "\"\"\"\n",
    "\n",
    "# Transform the query into a DataFrame\n",
    "df_van = spark.sql(query_van)\n",
    "\n",
    "# Add a new column called city and define the data types\n",
    "van_col = df_van.withColumn(\"Price\", df_van[\"Price\"].cast(IntegerType())) \\\n",
    "                .withColumn(\"Address\", df_van[\"Address\"].cast(StringType())) \\\n",
    "                .withColumn(\"Postal_Code\", df_van[\"Postal_Code\"].cast(StringType())) \\\n",
    "                .withColumn(\"Bed\", df_van[\"Bed\"].cast(IntegerType())) \\\n",
    "                .withColumn(\"Full_Bath\", df_van[\"Full_Bath\"].cast(IntegerType())) \\\n",
    "                .withColumn(\"Half_Bath\", df_van[\"Half_Bath\"].cast(IntegerType())) \\\n",
    "                .withColumn(\"Property_Area\", df_van[\"Property_Area\"].cast(IntegerType())) \\\n",
    "                .withColumn(\"Property_Type\", df_van[\"Property_Type\"].cast(IntegerType())) \\\n",
    "                .withColumn(\"City\", lit(\"Vancouver\").cast(StringType()))\n",
    "\n",
    "# Display the DataFrame\n",
    "display(van_col)"
   ]
  },
  {
   "cell_type": "markdown",
   "metadata": {
    "application/vnd.databricks.v1+cell": {
     "cellMetadata": {},
     "inputWidgets": {},
     "nuid": "e24392d7-e689-47de-a125-f236c1c6a690",
     "showTitle": false,
     "tableResultSettingsMap": {},
     "title": ""
    }
   },
   "source": [
    "#### Copy to ADLS Gen2 account"
   ]
  },
  {
   "cell_type": "code",
   "execution_count": 0,
   "metadata": {
    "application/vnd.databricks.v1+cell": {
     "cellMetadata": {},
     "inputWidgets": {},
     "nuid": "5b509c68-cc1c-40b8-8f6a-ebf9923e1d32",
     "showTitle": false,
     "tableResultSettingsMap": {},
     "title": ""
    }
   },
   "outputs": [],
   "source": [
    "# Write the data frames to the Azure storage account\n",
    "\n",
    "cal_col.write \\\n",
    "    .format(\"delta\") \\\n",
    "    .mode(\"overwrite\") \\\n",
    "    .option(\"path\", f\"abfss://{container_name}@{storage_account}.dfs.core.windows.net/calgary/\") \\\n",
    "    .save()\n",
    "\n",
    "van_col.write \\\n",
    "    .format(\"delta\") \\\n",
    "    .mode(\"overwrite\") \\\n",
    "    .option(\"path\", f\"abfss://{container_name}@{storage_account}.dfs.core.windows.net/vancouver/\") \\\n",
    "    .save()"
   ]
  }
 ],
 "metadata": {
  "application/vnd.databricks.v1+notebook": {
   "computePreferences": null,
   "dashboards": [],
   "environmentMetadata": {
    "base_environment": "",
    "client": "1"
   },
   "language": "python",
   "notebookMetadata": {
    "pythonIndentUnit": 4
   },
   "notebookName": "Snowflake-to-ADLS_Migration",
   "widgets": {}
  }
 },
 "nbformat": 4,
 "nbformat_minor": 0
}
